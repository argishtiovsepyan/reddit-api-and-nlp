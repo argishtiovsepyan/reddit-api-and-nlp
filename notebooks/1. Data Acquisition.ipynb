{
 "cells": [
  {
   "cell_type": "markdown",
   "id": "c2a363db-6c51-43cf-9291-af1d0c29aa56",
   "metadata": {},
   "source": [
    "## Data Acquisition"
   ]
  },
  {
   "cell_type": "markdown",
   "id": "8735dee2-7851-4593-9943-97d9c2d8c92a",
   "metadata": {},
   "source": [
    "#### Imports"
   ]
  },
  {
   "cell_type": "code",
   "execution_count": 1,
   "id": "0e74740d-dc5a-4c9c-9ce7-8612774f27e3",
   "metadata": {},
   "outputs": [],
   "source": [
    "import numpy as np\n",
    "import pandas as pd\n",
    "import matplotlib.pyplot as plt\n",
    "import seaborn as sns\n",
    "\n",
    "import requests\n",
    "import praw\n",
    "\n",
    "from datetime import datetime\n",
    "from credentials import API_KEY, API_SECRET, USER_AGENT"
   ]
  },
  {
   "cell_type": "code",
   "execution_count": 2,
   "id": "eb327d19-d440-44d9-9787-eb021a2f100b",
   "metadata": {},
   "outputs": [],
   "source": [
    "reddit = praw.Reddit(\n",
    "    client_id = API_KEY,\n",
    "    client_secret = API_SECRET,\n",
    "    user_agent = USER_AGENT)"
   ]
  },
  {
   "cell_type": "code",
   "execution_count": 3,
   "id": "94297f14-e8f3-4bb8-9e02-a51ac522cdff",
   "metadata": {},
   "outputs": [],
   "source": [
    "def combine_data(posts, label):\n",
    "    data = []\n",
    "    for p in posts:\n",
    "        row = (p.created_utc, p.title, p.selftext, p.upvote_ratio, p.num_comments)\n",
    "        data.append(row)\n",
    "        min_time = int(min(r[0] for r in data)) - 100_000\n",
    "    print(f\"{label.upper()} POSTS :: N = {len(data)}\")\n",
    "    return data"
   ]
  },
  {
   "cell_type": "code",
   "execution_count": 4,
   "id": "3cddf128-ab34-49d3-be4c-40325a47da16",
   "metadata": {},
   "outputs": [],
   "source": [
    "sub1 = reddit.subreddit('explainlikeimfive')\n",
    "\n",
    "posts_new = sub1.new(limit = 1000)\n",
    "posts_hot = sub1.hot(limit = 1000)\n",
    "posts_top = sub1.top(limit = 1000)\n",
    "posts_con = sub1.controversial(limit = 1000)"
   ]
  },
  {
   "cell_type": "code",
   "execution_count": 5,
   "id": "582b4076-41a4-4b6d-bca6-046c1da77c61",
   "metadata": {},
   "outputs": [
    {
     "name": "stdout",
     "output_type": "stream",
     "text": [
      "NEW POSTS :: N = 987\n",
      "HOT POSTS :: N = 461\n",
      "TOP POSTS :: N = 968\n",
      "CONTROVERSIAL POSTS :: N = 989\n"
     ]
    }
   ],
   "source": [
    "data_new = combine_data(posts_new, 'new')\n",
    "data_hot = combine_data(posts_hot, 'hot')\n",
    "data_top = combine_data(posts_top, 'top')\n",
    "data_con = combine_data(posts_con, 'controversial')"
   ]
  },
  {
   "cell_type": "code",
   "execution_count": 6,
   "id": "c043a791-d9cf-42d4-9e81-f0d37906d3e5",
   "metadata": {},
   "outputs": [],
   "source": [
    "df1 = pd.DataFrame(data_new + data_hot + data_top + data_con, columns = ['time', 'title', 'text', 'upvotes', 'comments'])"
   ]
  },
  {
   "cell_type": "code",
   "execution_count": 7,
   "id": "2e32ffb7-44d2-44ad-b011-028eaf778f1b",
   "metadata": {},
   "outputs": [
    {
     "data": {
      "text/plain": [
       "(3192, 5)"
      ]
     },
     "execution_count": 7,
     "metadata": {},
     "output_type": "execute_result"
    }
   ],
   "source": [
    "df1.drop_duplicates().shape"
   ]
  },
  {
   "cell_type": "code",
   "execution_count": 8,
   "id": "d5c83b67-3e8b-4384-9b4d-8f0fade9d9b6",
   "metadata": {},
   "outputs": [],
   "source": [
    "df1.drop_duplicates(inplace = True)"
   ]
  },
  {
   "cell_type": "code",
   "execution_count": 9,
   "id": "5c5a3e60-4ffe-4055-8ceb-7b041be7ee8e",
   "metadata": {},
   "outputs": [
    {
     "data": {
      "text/html": [
       "<div>\n",
       "<style scoped>\n",
       "    .dataframe tbody tr th:only-of-type {\n",
       "        vertical-align: middle;\n",
       "    }\n",
       "\n",
       "    .dataframe tbody tr th {\n",
       "        vertical-align: top;\n",
       "    }\n",
       "\n",
       "    .dataframe thead th {\n",
       "        text-align: right;\n",
       "    }\n",
       "</style>\n",
       "<table border=\"1\" class=\"dataframe\">\n",
       "  <thead>\n",
       "    <tr style=\"text-align: right;\">\n",
       "      <th></th>\n",
       "      <th>time</th>\n",
       "      <th>title</th>\n",
       "      <th>text</th>\n",
       "      <th>upvotes</th>\n",
       "      <th>comments</th>\n",
       "    </tr>\n",
       "  </thead>\n",
       "  <tbody>\n",
       "    <tr>\n",
       "      <th>0</th>\n",
       "      <td>1.687220e+09</td>\n",
       "      <td>ELI5: Sliver Fill (landfill)</td>\n",
       "      <td>I opérate heavy equipment but I’m new to landf...</td>\n",
       "      <td>1.00</td>\n",
       "      <td>0</td>\n",
       "    </tr>\n",
       "    <tr>\n",
       "      <th>1</th>\n",
       "      <td>1.687220e+09</td>\n",
       "      <td>ELI5 What’s the difference between MLS and Zil...</td>\n",
       "      <td>Why do realtors give you access to MLS but mos...</td>\n",
       "      <td>1.00</td>\n",
       "      <td>0</td>\n",
       "    </tr>\n",
       "    <tr>\n",
       "      <th>2</th>\n",
       "      <td>1.687219e+09</td>\n",
       "      <td>ELI5: How does a videogame know you've done a ...</td>\n",
       "      <td>For example I've been playing GTA San Andreas ...</td>\n",
       "      <td>1.00</td>\n",
       "      <td>3</td>\n",
       "    </tr>\n",
       "    <tr>\n",
       "      <th>3</th>\n",
       "      <td>1.687218e+09</td>\n",
       "      <td>ELI5: Why did warfare around the Mediterranean...</td>\n",
       "      <td>Obviously, not all warfare was heavy infantry ...</td>\n",
       "      <td>1.00</td>\n",
       "      <td>1</td>\n",
       "    </tr>\n",
       "    <tr>\n",
       "      <th>4</th>\n",
       "      <td>1.687218e+09</td>\n",
       "      <td>ELI5: If we can't see 4D beings, what are the ...</td>\n",
       "      <td>The idea of 4th dimension exist , whether they...</td>\n",
       "      <td>0.33</td>\n",
       "      <td>4</td>\n",
       "    </tr>\n",
       "    <tr>\n",
       "      <th>...</th>\n",
       "      <td>...</td>\n",
       "      <td>...</td>\n",
       "      <td>...</td>\n",
       "      <td>...</td>\n",
       "      <td>...</td>\n",
       "    </tr>\n",
       "    <tr>\n",
       "      <th>3400</th>\n",
       "      <td>1.451167e+09</td>\n",
       "      <td>ELI5: How did the pyramids go missing for so l...</td>\n",
       "      <td></td>\n",
       "      <td>0.50</td>\n",
       "      <td>13</td>\n",
       "    </tr>\n",
       "    <tr>\n",
       "      <th>3401</th>\n",
       "      <td>1.447076e+09</td>\n",
       "      <td>Eli5: What is the point in using turn signals ...</td>\n",
       "      <td>I see everybody turning with signals. I person...</td>\n",
       "      <td>0.50</td>\n",
       "      <td>20</td>\n",
       "    </tr>\n",
       "    <tr>\n",
       "      <th>3402</th>\n",
       "      <td>1.444424e+09</td>\n",
       "      <td>ELI5: Why are actors and musicians more famous...</td>\n",
       "      <td></td>\n",
       "      <td>0.47</td>\n",
       "      <td>5</td>\n",
       "    </tr>\n",
       "    <tr>\n",
       "      <th>3403</th>\n",
       "      <td>1.443834e+09</td>\n",
       "      <td>ELI5:Why is [the shadow of this astronaut](htt...</td>\n",
       "      <td>I'm not a conspiracy theorist, but I thought R...</td>\n",
       "      <td>0.50</td>\n",
       "      <td>8</td>\n",
       "    </tr>\n",
       "    <tr>\n",
       "      <th>3404</th>\n",
       "      <td>1.687169e+09</td>\n",
       "      <td>eli5 Why does sleep paralysis happen?</td>\n",
       "      <td></td>\n",
       "      <td>0.58</td>\n",
       "      <td>11</td>\n",
       "    </tr>\n",
       "  </tbody>\n",
       "</table>\n",
       "<p>3192 rows × 5 columns</p>\n",
       "</div>"
      ],
      "text/plain": [
       "              time                                              title  \\\n",
       "0     1.687220e+09                       ELI5: Sliver Fill (landfill)   \n",
       "1     1.687220e+09  ELI5 What’s the difference between MLS and Zil...   \n",
       "2     1.687219e+09  ELI5: How does a videogame know you've done a ...   \n",
       "3     1.687218e+09  ELI5: Why did warfare around the Mediterranean...   \n",
       "4     1.687218e+09  ELI5: If we can't see 4D beings, what are the ...   \n",
       "...            ...                                                ...   \n",
       "3400  1.451167e+09  ELI5: How did the pyramids go missing for so l...   \n",
       "3401  1.447076e+09  Eli5: What is the point in using turn signals ...   \n",
       "3402  1.444424e+09  ELI5: Why are actors and musicians more famous...   \n",
       "3403  1.443834e+09  ELI5:Why is [the shadow of this astronaut](htt...   \n",
       "3404  1.687169e+09              eli5 Why does sleep paralysis happen?   \n",
       "\n",
       "                                                   text  upvotes  comments  \n",
       "0     I opérate heavy equipment but I’m new to landf...     1.00         0  \n",
       "1     Why do realtors give you access to MLS but mos...     1.00         0  \n",
       "2     For example I've been playing GTA San Andreas ...     1.00         3  \n",
       "3     Obviously, not all warfare was heavy infantry ...     1.00         1  \n",
       "4     The idea of 4th dimension exist , whether they...     0.33         4  \n",
       "...                                                 ...      ...       ...  \n",
       "3400                                                        0.50        13  \n",
       "3401  I see everybody turning with signals. I person...     0.50        20  \n",
       "3402                                                        0.47         5  \n",
       "3403  I'm not a conspiracy theorist, but I thought R...     0.50         8  \n",
       "3404                                                        0.58        11  \n",
       "\n",
       "[3192 rows x 5 columns]"
      ]
     },
     "execution_count": 9,
     "metadata": {},
     "output_type": "execute_result"
    }
   ],
   "source": [
    "df1"
   ]
  },
  {
   "cell_type": "code",
   "execution_count": 10,
   "id": "0bf40383-a903-496e-ae51-a6be8e3cb4b9",
   "metadata": {},
   "outputs": [],
   "source": [
    "df1.to_csv(f\"data/ELIF_{datetime.now().strftime('%m-%d-%y_%H-%M')}.csv\", index=False)"
   ]
  },
  {
   "cell_type": "code",
   "execution_count": 11,
   "id": "2baf827a-08c7-439d-9a57-7872ac983bcf",
   "metadata": {},
   "outputs": [],
   "source": [
    "sub2 = reddit.subreddit('AskScience')\n",
    "\n",
    "posts_new2 = sub2.new(limit = 1000)\n",
    "posts_hot2 = sub2.hot(limit = 1000)\n",
    "posts_top2 = sub2.top(limit = 1000)\n",
    "posts_con2 = sub2.controversial(limit = 1000)"
   ]
  },
  {
   "cell_type": "code",
   "execution_count": 12,
   "id": "c4fc0989-2189-42af-8905-ff579c13d3aa",
   "metadata": {},
   "outputs": [
    {
     "name": "stdout",
     "output_type": "stream",
     "text": [
      "NEW POSTS :: N = 758\n",
      "HOT POSTS :: N = 995\n",
      "TOP POSTS :: N = 998\n",
      "CONTROVERSIAL POSTS :: N = 999\n"
     ]
    }
   ],
   "source": [
    "data_new2 = combine_data(posts_new2, 'new')\n",
    "data_hot2 = combine_data(posts_hot2, 'hot')\n",
    "data_top2 = combine_data(posts_top2, 'top')\n",
    "data_con2 = combine_data(posts_con2, 'controversial')"
   ]
  },
  {
   "cell_type": "code",
   "execution_count": 13,
   "id": "273c401b-72b3-4e37-8ab3-88e56998fed3",
   "metadata": {},
   "outputs": [],
   "source": [
    "df2 = pd.DataFrame(data_new2 + data_hot2 + data_top2 + data_con2, columns = ['time', 'title', 'text', 'upvotes', 'comments'])"
   ]
  },
  {
   "cell_type": "code",
   "execution_count": 14,
   "id": "aa330d6a-6314-4985-82aa-3f6e7e267fe6",
   "metadata": {},
   "outputs": [
    {
     "data": {
      "text/plain": [
       "(3337, 5)"
      ]
     },
     "execution_count": 14,
     "metadata": {},
     "output_type": "execute_result"
    }
   ],
   "source": [
    "df2.drop_duplicates().shape"
   ]
  },
  {
   "cell_type": "code",
   "execution_count": 15,
   "id": "1fc4816e-1d6d-4dac-9f2f-d03105a3e552",
   "metadata": {},
   "outputs": [],
   "source": [
    "df2.drop_duplicates(inplace = True)"
   ]
  },
  {
   "cell_type": "code",
   "execution_count": 16,
   "id": "ec06501a-b0ac-4d29-b310-0c5388a819d0",
   "metadata": {},
   "outputs": [
    {
     "data": {
      "text/html": [
       "<div>\n",
       "<style scoped>\n",
       "    .dataframe tbody tr th:only-of-type {\n",
       "        vertical-align: middle;\n",
       "    }\n",
       "\n",
       "    .dataframe tbody tr th {\n",
       "        vertical-align: top;\n",
       "    }\n",
       "\n",
       "    .dataframe thead th {\n",
       "        text-align: right;\n",
       "    }\n",
       "</style>\n",
       "<table border=\"1\" class=\"dataframe\">\n",
       "  <thead>\n",
       "    <tr style=\"text-align: right;\">\n",
       "      <th></th>\n",
       "      <th>time</th>\n",
       "      <th>title</th>\n",
       "      <th>text</th>\n",
       "      <th>upvotes</th>\n",
       "      <th>comments</th>\n",
       "    </tr>\n",
       "  </thead>\n",
       "  <tbody>\n",
       "    <tr>\n",
       "      <th>0</th>\n",
       "      <td>1.687161e+09</td>\n",
       "      <td>When making an epigenetic change to DNA, how d...</td>\n",
       "      <td>So I know that noncoding RNA is able to mediat...</td>\n",
       "      <td>0.78</td>\n",
       "      <td>9</td>\n",
       "    </tr>\n",
       "    <tr>\n",
       "      <th>1</th>\n",
       "      <td>1.687152e+09</td>\n",
       "      <td>Why are there no longer Yellow Fever outbreaks...</td>\n",
       "      <td></td>\n",
       "      <td>0.71</td>\n",
       "      <td>13</td>\n",
       "    </tr>\n",
       "    <tr>\n",
       "      <th>2</th>\n",
       "      <td>1.687155e+09</td>\n",
       "      <td>Do astronauts loose hair cause problems on the...</td>\n",
       "      <td>Hair comes off everybody. In space of course w...</td>\n",
       "      <td>0.85</td>\n",
       "      <td>203</td>\n",
       "    </tr>\n",
       "    <tr>\n",
       "      <th>3</th>\n",
       "      <td>1.687139e+09</td>\n",
       "      <td>How fast does the major axis of the Earth's or...</td>\n",
       "      <td>The Earth orbits the sun in an ellipse with lo...</td>\n",
       "      <td>0.71</td>\n",
       "      <td>17</td>\n",
       "    </tr>\n",
       "    <tr>\n",
       "      <th>4</th>\n",
       "      <td>1.687104e+09</td>\n",
       "      <td>We're any dinosaurs frugivores (diet consistin...</td>\n",
       "      <td></td>\n",
       "      <td>0.72</td>\n",
       "      <td>57</td>\n",
       "    </tr>\n",
       "    <tr>\n",
       "      <th>...</th>\n",
       "      <td>...</td>\n",
       "      <td>...</td>\n",
       "      <td>...</td>\n",
       "      <td>...</td>\n",
       "      <td>...</td>\n",
       "    </tr>\n",
       "    <tr>\n",
       "      <th>3739</th>\n",
       "      <td>1.406395e+09</td>\n",
       "      <td>At the center of the earth, wouldn't there exi...</td>\n",
       "      <td>Maybe this should be posted in shower thoughts...</td>\n",
       "      <td>0.47</td>\n",
       "      <td>6</td>\n",
       "    </tr>\n",
       "    <tr>\n",
       "      <th>3740</th>\n",
       "      <td>1.401026e+09</td>\n",
       "      <td>[physics] How does an eigenstate related to an...</td>\n",
       "      <td>I'm getting really jumbled up in all this Eige...</td>\n",
       "      <td>0.46</td>\n",
       "      <td>7</td>\n",
       "    </tr>\n",
       "    <tr>\n",
       "      <th>3741</th>\n",
       "      <td>1.394904e+09</td>\n",
       "      <td>How do programs like 'iTunes visualiser' work?...</td>\n",
       "      <td></td>\n",
       "      <td>0.50</td>\n",
       "      <td>3</td>\n",
       "    </tr>\n",
       "    <tr>\n",
       "      <th>3742</th>\n",
       "      <td>1.389487e+09</td>\n",
       "      <td>Why are socks so hard to put on with wet feet?</td>\n",
       "      <td></td>\n",
       "      <td>0.50</td>\n",
       "      <td>1</td>\n",
       "    </tr>\n",
       "    <tr>\n",
       "      <th>3749</th>\n",
       "      <td>1.685852e+09</td>\n",
       "      <td>Is the need for sleep an emergent property of ...</td>\n",
       "      <td></td>\n",
       "      <td>0.60</td>\n",
       "      <td>5</td>\n",
       "    </tr>\n",
       "  </tbody>\n",
       "</table>\n",
       "<p>3337 rows × 5 columns</p>\n",
       "</div>"
      ],
      "text/plain": [
       "              time                                              title  \\\n",
       "0     1.687161e+09  When making an epigenetic change to DNA, how d...   \n",
       "1     1.687152e+09  Why are there no longer Yellow Fever outbreaks...   \n",
       "2     1.687155e+09  Do astronauts loose hair cause problems on the...   \n",
       "3     1.687139e+09  How fast does the major axis of the Earth's or...   \n",
       "4     1.687104e+09  We're any dinosaurs frugivores (diet consistin...   \n",
       "...            ...                                                ...   \n",
       "3739  1.406395e+09  At the center of the earth, wouldn't there exi...   \n",
       "3740  1.401026e+09  [physics] How does an eigenstate related to an...   \n",
       "3741  1.394904e+09  How do programs like 'iTunes visualiser' work?...   \n",
       "3742  1.389487e+09     Why are socks so hard to put on with wet feet?   \n",
       "3749  1.685852e+09  Is the need for sleep an emergent property of ...   \n",
       "\n",
       "                                                   text  upvotes  comments  \n",
       "0     So I know that noncoding RNA is able to mediat...     0.78         9  \n",
       "1                                                           0.71        13  \n",
       "2     Hair comes off everybody. In space of course w...     0.85       203  \n",
       "3     The Earth orbits the sun in an ellipse with lo...     0.71        17  \n",
       "4                                                           0.72        57  \n",
       "...                                                 ...      ...       ...  \n",
       "3739  Maybe this should be posted in shower thoughts...     0.47         6  \n",
       "3740  I'm getting really jumbled up in all this Eige...     0.46         7  \n",
       "3741                                                        0.50         3  \n",
       "3742                                                        0.50         1  \n",
       "3749                                                        0.60         5  \n",
       "\n",
       "[3337 rows x 5 columns]"
      ]
     },
     "execution_count": 16,
     "metadata": {},
     "output_type": "execute_result"
    }
   ],
   "source": [
    "df2"
   ]
  },
  {
   "cell_type": "code",
   "execution_count": 17,
   "id": "215446ce-da49-4ac8-a2c7-46f2aeb95e89",
   "metadata": {},
   "outputs": [],
   "source": [
    "df2.to_csv(f\"data/AskScience_{datetime.now().strftime('%m-%d-%y_%H-%M')}.csv\", index=False)"
   ]
  },
  {
   "cell_type": "markdown",
   "id": "6a182912-40d3-4bdc-9523-b08afa3590ae",
   "metadata": {},
   "source": [
    "Using PRAW (Python Reddit API Wrapper), an API wrapped that allows easy access to Reddit information without the need for manual scraping, I acquired thousands of posts and created their own csv files that are dated and timed to allow me to see when my data was acquired."
   ]
  },
  {
   "cell_type": "code",
   "execution_count": null,
   "id": "cdade862-31e5-428b-b293-2e900c0d8788",
   "metadata": {},
   "outputs": [],
   "source": []
  }
 ],
 "metadata": {
  "kernelspec": {
   "display_name": "Python 3 (ipykernel)",
   "language": "python",
   "name": "python3"
  },
  "language_info": {
   "codemirror_mode": {
    "name": "ipython",
    "version": 3
   },
   "file_extension": ".py",
   "mimetype": "text/x-python",
   "name": "python",
   "nbconvert_exporter": "python",
   "pygments_lexer": "ipython3",
   "version": "3.10.9"
  }
 },
 "nbformat": 4,
 "nbformat_minor": 5
}
